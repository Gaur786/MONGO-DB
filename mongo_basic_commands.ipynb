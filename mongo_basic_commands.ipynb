{
 "cells": [
  {
   "cell_type": "code",
   "execution_count": 1,
   "metadata": {},
   "outputs": [],
   "source": [
    "import pymongo"
   ]
  },
  {
   "cell_type": "code",
   "execution_count": 2,
   "metadata": {},
   "outputs": [],
   "source": [
    "# Creating a Connection\n",
    "\n",
    "client = pymongo.MongoClient(\"mongodb://localhost:27017/\")"
   ]
  },
  {
   "cell_type": "code",
   "execution_count": 3,
   "metadata": {},
   "outputs": [],
   "source": [
    "#Creating Datbase\n",
    "database = client[\"test\"]"
   ]
  },
  {
   "cell_type": "code",
   "execution_count": 4,
   "metadata": {},
   "outputs": [],
   "source": [
    "#creating collection\n",
    "\n",
    "collection = database[\"Products\"]"
   ]
  },
  {
   "cell_type": "code",
   "execution_count": 31,
   "metadata": {},
   "outputs": [],
   "source": [
    "# Data to be stored as a Json format or key value pair\n",
    "\n",
    "d= {\"companyName\" : \"iNeuron\",\n",
    "    'product':'Affordable AI',\n",
    "    'courseOffered': 'Machine Learning With Deployment'\n",
    "}"
   ]
  },
  {
   "cell_type": "code",
   "execution_count": 32,
   "metadata": {},
   "outputs": [],
   "source": [
    "# Inserting only one data into the collection\n",
    "rec = collection.insert_one(d)"
   ]
  },
  {
   "cell_type": "code",
   "execution_count": 33,
   "metadata": {},
   "outputs": [],
   "source": [
    "# Searching the data \n",
    "all_record = collection.find()"
   ]
  },
  {
   "cell_type": "code",
   "execution_count": 34,
   "metadata": {},
   "outputs": [
    {
     "name": "stdout",
     "output_type": "stream",
     "text": [
      "0: {'_id': ObjectId('63903299103826d6e35fa8b8'), 'companyName': 'iNeuron', 'product': 'Affordable AI', 'courseOffered': 'Machine Learning With Deployment'}\n",
      "1: {'_id': ObjectId('63903a0f103826d6e35fa8b9'), 'companyName': 'iNeuron', 'product': 'Affordable Big Data', 'courseOffered': 'Machine Learning With Deployment, Big Data Bootcamp', 'price': '17000'}\n",
      "2: {'_id': ObjectId('63903f1b103826d6e35fa8ba'), 'companyName': 'iNeuron', 'product': 'Affordable AI', 'courseOffered': 'Machine Learning With Deployment'}\n"
     ]
    }
   ],
   "source": [
    "for idx, record in enumerate(all_record):\n",
    "     print(f\"{idx}: {record}\")"
   ]
  },
  {
   "cell_type": "code",
   "execution_count": 36,
   "metadata": {},
   "outputs": [],
   "source": [
    "d= {\"companyName\" : \"iNeuron\",\n",
    "    'product':'fsds',\n",
    "    'courseOffered': 'full stack Data Science',\n",
    "    'price': '10000'\n",
    "}"
   ]
  },
  {
   "cell_type": "code",
   "execution_count": 39,
   "metadata": {},
   "outputs": [],
   "source": [
    "rec = collection.insert_one(d)"
   ]
  },
  {
   "cell_type": "code",
   "execution_count": 40,
   "metadata": {},
   "outputs": [],
   "source": [
    "result = collection.find()"
   ]
  },
  {
   "cell_type": "code",
   "execution_count": 42,
   "metadata": {},
   "outputs": [
    {
     "name": "stdout",
     "output_type": "stream",
     "text": [
      "{'_id': ObjectId('63903299103826d6e35fa8b8'), 'companyName': 'iNeuron', 'product': 'Affordable AI', 'courseOffered': 'Machine Learning With Deployment'} : {'_id': ObjectId('63903f1b103826d6e35fa8ba'), 'companyName': 'iNeuron', 'product': 'Affordable AI', 'courseOffered': 'Machine Learning With Deployment'}\n",
      "{'_id': ObjectId('63903a0f103826d6e35fa8b9'), 'companyName': 'iNeuron', 'product': 'Affordable Big Data', 'courseOffered': 'Machine Learning With Deployment, Big Data Bootcamp', 'price': '17000'} : {'_id': ObjectId('63903f1b103826d6e35fa8ba'), 'companyName': 'iNeuron', 'product': 'Affordable AI', 'courseOffered': 'Machine Learning With Deployment'}\n",
      "{'_id': ObjectId('63903f1b103826d6e35fa8ba'), 'companyName': 'iNeuron', 'product': 'Affordable AI', 'courseOffered': 'Machine Learning With Deployment'} : {'_id': ObjectId('63903f1b103826d6e35fa8ba'), 'companyName': 'iNeuron', 'product': 'Affordable AI', 'courseOffered': 'Machine Learning With Deployment'}\n",
      "{'_id': ObjectId('63903f9e103826d6e35fa8bb'), 'companyName': 'iNeuron', 'product': 'fsds', 'courseOffered': 'full stack Data Science', 'price': '10000'} : {'_id': ObjectId('63903f1b103826d6e35fa8ba'), 'companyName': 'iNeuron', 'product': 'Affordable AI', 'courseOffered': 'Machine Learning With Deployment'}\n"
     ]
    }
   ],
   "source": [
    "for idx in result:\n",
    "    print(f\"{idx} : {record}\")\n",
    "     "
   ]
  },
  {
   "cell_type": "code",
   "execution_count": null,
   "metadata": {},
   "outputs": [],
   "source": []
  }
 ],
 "metadata": {
  "kernelspec": {
   "display_name": "Python 3.8.10 64-bit",
   "language": "python",
   "name": "python3"
  },
  "language_info": {
   "codemirror_mode": {
    "name": "ipython",
    "version": 3
   },
   "file_extension": ".py",
   "mimetype": "text/x-python",
   "name": "python",
   "nbconvert_exporter": "python",
   "pygments_lexer": "ipython3",
   "version": "3.8.10"
  },
  "orig_nbformat": 4,
  "vscode": {
   "interpreter": {
    "hash": "e7370f93d1d0cde622a1f8e1c04877d8463912d04d973331ad4851f04de6915a"
   }
  }
 },
 "nbformat": 4,
 "nbformat_minor": 2
}
